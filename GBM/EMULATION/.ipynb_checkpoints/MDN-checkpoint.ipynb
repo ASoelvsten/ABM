{
 "cells": [
  {
   "cell_type": "code",
   "execution_count": 1,
   "id": "arabic-daisy",
   "metadata": {},
   "outputs": [],
   "source": [
    "from __future__ import absolute_import, division, print_function\n",
    "import h5py\n",
    "import pickle\n",
    "\n",
    "import numpy as np\n",
    "import tensorflow as tf\n",
    "import tensorflow.keras as K\n",
    "\n",
    "from tensorflow_probability import distributions as tfd\n",
    "\n",
    "from tensorflow.keras.layers import Input, Dense, Activation, Concatenate\n",
    "from tensorflow.keras.callbacks import EarlyStopping, TensorBoard, ReduceLROnPlateau\n",
    "\n",
    "from sklearn.model_selection import train_test_split\n",
    "\n",
    "import matplotlib as mpl\n",
    "\n",
    "import matplotlib.pyplot as plt\n",
    "import matplotlib.patches as mpatches\n",
    "import seaborn as sns\n",
    "from sklearn.preprocessing import StandardScaler"
   ]
  },
  {
   "cell_type": "code",
   "execution_count": 2,
   "id": "olive-senator",
   "metadata": {},
   "outputs": [],
   "source": [
    "from MDN_func import mdnglob, save_object, load_grid\n",
    "from MDN_func import loss_func, MDN_Full, slice_parameter_vectors_full, mixgauss_full\n",
    "from MDN_func import predicting\n",
    "from MDN_func import loss_func_single\n",
    "\n",
    "ext = \"105_clean\""
   ]
  },
  {
   "cell_type": "code",
   "execution_count": 3,
   "id": "political-lucas",
   "metadata": {},
   "outputs": [],
   "source": [
    "no_mix, no_parameters, neurons, components, dim_out = mdnglob()\n",
    "\n",
    "opt = tf.keras.optimizers.Adam(learning_rate=1e-5,\n",
    "      beta_1=0.9,\n",
    "      beta_2=0.999,\n",
    "      epsilon=1e-09,\n",
    "      )\n",
    "\n",
    "eager = False"
   ]
  },
  {
   "cell_type": "code",
   "execution_count": 4,
   "id": "wicked-agency",
   "metadata": {},
   "outputs": [],
   "source": [
    "mdn = MDN_Full(neurons=neurons, ncomp=no_mix,dim=dim_out)\n",
    "if eager:\n",
    "    mdn.compile(loss=loss_func, optimizer=opt, run_eagerly=True)\n",
    "    mon = EarlyStopping(monitor='val_loss', min_delta=0.1, patience=125, verbose=0, mode='auto')\n",
    "else:\n",
    "    mdn.compile(loss=loss_func_single, optimizer=opt)\n",
    "    mon = EarlyStopping(monitor='val_loss', min_delta=0.1, patience=40, verbose=0, mode='auto')"
   ]
  },
  {
   "cell_type": "code",
   "execution_count": 5,
   "id": "sublime-lemon",
   "metadata": {},
   "outputs": [
    {
     "name": "stdout",
     "output_type": "stream",
     "text": [
      "['lam:', 'eps:', 'die:', 'divi:', ' GSC', ' GPP', ' GDS', ' Dead', ' Single cells']\n"
     ]
    },
    {
     "ename": "KeyboardInterrupt",
     "evalue": "",
     "output_type": "error",
     "traceback": [
      "\u001b[0;31m---------------------------------------------------------------------------\u001b[0m",
      "\u001b[0;31mKeyboardInterrupt\u001b[0m                         Traceback (most recent call last)",
      "\u001b[0;32m<ipython-input-5-d81ddb4598cc>\u001b[0m in \u001b[0;36m<module>\u001b[0;34m\u001b[0m\n\u001b[1;32m     10\u001b[0m     \u001b[0mgrid_name\u001b[0m \u001b[0;34m=\u001b[0m \u001b[0;34m\"grid_0_dim4_100vl.h5\"\u001b[0m\u001b[0;34m\u001b[0m\u001b[0;34m\u001b[0m\u001b[0m\n\u001b[1;32m     11\u001b[0m \u001b[0;34m\u001b[0m\u001b[0m\n\u001b[0;32m---> 12\u001b[0;31m \u001b[0mX\u001b[0m\u001b[0;34m,\u001b[0m \u001b[0my\u001b[0m\u001b[0;34m,\u001b[0m \u001b[0mheader\u001b[0m \u001b[0;34m=\u001b[0m \u001b[0mload_grid\u001b[0m\u001b[0;34m(\u001b[0m\u001b[0mfolder\u001b[0m \u001b[0;34m+\u001b[0m \u001b[0mgrid_name\u001b[0m\u001b[0;34m)\u001b[0m\u001b[0;34m\u001b[0m\u001b[0;34m\u001b[0m\u001b[0m\n\u001b[0m\u001b[1;32m     13\u001b[0m \u001b[0;34m\u001b[0m\u001b[0m\n\u001b[1;32m     14\u001b[0m \u001b[0mX_train\u001b[0m\u001b[0;34m,\u001b[0m \u001b[0mX_test\u001b[0m\u001b[0;34m,\u001b[0m \u001b[0my_train\u001b[0m\u001b[0;34m,\u001b[0m \u001b[0my_test\u001b[0m \u001b[0;34m=\u001b[0m \u001b[0mtrain_test_split\u001b[0m\u001b[0;34m(\u001b[0m\u001b[0mX\u001b[0m\u001b[0;34m,\u001b[0m \u001b[0my\u001b[0m\u001b[0;34m,\u001b[0m \u001b[0mtest_size\u001b[0m\u001b[0;34m=\u001b[0m\u001b[0;36m0.2\u001b[0m\u001b[0;34m,\u001b[0m \u001b[0mrandom_state\u001b[0m\u001b[0;34m=\u001b[0m\u001b[0;36m42\u001b[0m\u001b[0;34m)\u001b[0m\u001b[0;34m\u001b[0m\u001b[0;34m\u001b[0m\u001b[0m\n",
      "\u001b[0;32m~/GBM/MDN/Dromaius.py\u001b[0m in \u001b[0;36mload_grid\u001b[0;34m(name)\u001b[0m\n\u001b[1;32m    307\u001b[0m             \u001b[0mremoved\u001b[0m \u001b[0;34m+=\u001b[0m \u001b[0;36m1\u001b[0m\u001b[0;34m\u001b[0m\u001b[0;34m\u001b[0m\u001b[0m\n\u001b[1;32m    308\u001b[0m         \u001b[0;32melif\u001b[0m \u001b[0mlen\u001b[0m\u001b[0;34m(\u001b[0m\u001b[0mX_clean\u001b[0m\u001b[0;34m)\u001b[0m \u001b[0;34m>\u001b[0m \u001b[0;36m0\u001b[0m\u001b[0;34m:\u001b[0m\u001b[0;34m\u001b[0m\u001b[0;34m\u001b[0m\u001b[0m\n\u001b[0;32m--> 309\u001b[0;31m             \u001b[0mX_clean\u001b[0m \u001b[0;34m=\u001b[0m \u001b[0mnp\u001b[0m\u001b[0;34m.\u001b[0m\u001b[0mvstack\u001b[0m\u001b[0;34m(\u001b[0m\u001b[0;34m(\u001b[0m\u001b[0mX_clean\u001b[0m\u001b[0;34m,\u001b[0m\u001b[0mX\u001b[0m\u001b[0;34m[\u001b[0m\u001b[0mi\u001b[0m\u001b[0;34m,\u001b[0m\u001b[0;34m:\u001b[0m\u001b[0;34m]\u001b[0m\u001b[0;34m)\u001b[0m\u001b[0;34m)\u001b[0m\u001b[0;34m\u001b[0m\u001b[0;34m\u001b[0m\u001b[0m\n\u001b[0m\u001b[1;32m    310\u001b[0m             \u001b[0my_clean\u001b[0m \u001b[0;34m=\u001b[0m \u001b[0mnp\u001b[0m\u001b[0;34m.\u001b[0m\u001b[0mvstack\u001b[0m\u001b[0;34m(\u001b[0m\u001b[0;34m(\u001b[0m\u001b[0my_clean\u001b[0m\u001b[0;34m,\u001b[0m\u001b[0my\u001b[0m\u001b[0;34m[\u001b[0m\u001b[0mi\u001b[0m\u001b[0;34m,\u001b[0m\u001b[0;34m:\u001b[0m\u001b[0;34m]\u001b[0m\u001b[0;34m)\u001b[0m\u001b[0;34m)\u001b[0m\u001b[0;34m\u001b[0m\u001b[0;34m\u001b[0m\u001b[0m\n\u001b[1;32m    311\u001b[0m         \u001b[0;32melse\u001b[0m\u001b[0;34m:\u001b[0m\u001b[0;34m\u001b[0m\u001b[0;34m\u001b[0m\u001b[0m\n",
      "\u001b[0;32m<__array_function__ internals>\u001b[0m in \u001b[0;36mvstack\u001b[0;34m(*args, **kwargs)\u001b[0m\n",
      "\u001b[0;32m~/.local/lib/python3.6/site-packages/numpy/core/shape_base.py\u001b[0m in \u001b[0;36mvstack\u001b[0;34m(tup)\u001b[0m\n\u001b[1;32m    281\u001b[0m     \u001b[0;32mif\u001b[0m \u001b[0;32mnot\u001b[0m \u001b[0misinstance\u001b[0m\u001b[0;34m(\u001b[0m\u001b[0marrs\u001b[0m\u001b[0;34m,\u001b[0m \u001b[0mlist\u001b[0m\u001b[0;34m)\u001b[0m\u001b[0;34m:\u001b[0m\u001b[0;34m\u001b[0m\u001b[0;34m\u001b[0m\u001b[0m\n\u001b[1;32m    282\u001b[0m         \u001b[0marrs\u001b[0m \u001b[0;34m=\u001b[0m \u001b[0;34m[\u001b[0m\u001b[0marrs\u001b[0m\u001b[0;34m]\u001b[0m\u001b[0;34m\u001b[0m\u001b[0;34m\u001b[0m\u001b[0m\n\u001b[0;32m--> 283\u001b[0;31m     \u001b[0;32mreturn\u001b[0m \u001b[0m_nx\u001b[0m\u001b[0;34m.\u001b[0m\u001b[0mconcatenate\u001b[0m\u001b[0;34m(\u001b[0m\u001b[0marrs\u001b[0m\u001b[0;34m,\u001b[0m \u001b[0;36m0\u001b[0m\u001b[0;34m)\u001b[0m\u001b[0;34m\u001b[0m\u001b[0;34m\u001b[0m\u001b[0m\n\u001b[0m\u001b[1;32m    284\u001b[0m \u001b[0;34m\u001b[0m\u001b[0m\n\u001b[1;32m    285\u001b[0m \u001b[0;34m\u001b[0m\u001b[0m\n",
      "\u001b[0;32m<__array_function__ internals>\u001b[0m in \u001b[0;36mconcatenate\u001b[0;34m(*args, **kwargs)\u001b[0m\n",
      "\u001b[0;31mKeyboardInterrupt\u001b[0m: "
     ]
    }
   ],
   "source": [
    "folder = \"../GRID/\"\n",
    "\n",
    "if \"104\" in ext:\n",
    "    grid_name = \"grid_0_dim4_100.h5\"\n",
    "if \"103\" in ext:\n",
    "    grid_name = \"grid_0_dim4_100l.h5\"\n",
    "if \"105\" in ext:\n",
    "    grid_name = \"grid_0_dim4_100h.h5\"\n",
    "if \"102\" in ext:\n",
    "    grid_name = \"grid_0_dim4_100vl.h5\"\n",
    "\n",
    "X, y, header = load_grid(folder + grid_name)\n",
    "\n",
    "X_train, X_test, y_train, y_test = train_test_split(X, y, test_size=0.2, random_state=42)\n",
    "\n",
    "X_train, X_val, y_train, y_val = train_test_split(X_train, y_train, test_size=0.15)\n",
    "\n",
    "sc = StandardScaler()\n",
    "x_train = sc.fit_transform(X_train)\n",
    "x_test = sc.transform(X_test) \n",
    "x_val = sc.transform(X_val)\n",
    "scy = StandardScaler()\n",
    "y_train = scy.fit_transform(y_train)\n",
    "y_test = scy.transform(y_test)\n",
    "y_val = scy.transform(y_val)"
   ]
  },
  {
   "cell_type": "code",
   "execution_count": null,
   "id": "precious-muscle",
   "metadata": {},
   "outputs": [],
   "source": [
    "if eager:\n",
    "    history = mdn.fit(x=x_train, y=y_train, epochs=5000, validation_data=(x_val, y_val), \n",
    "                  batch_size=max([10,int(len(x_train)/50)]), verbose=1, shuffle=True,\n",
    "#                  batch_size=1, verbose=1, shuffle=True,\n",
    "                  use_multiprocessing=False, callbacks=[mon])        \n",
    "else:\n",
    "    history = mdn.fit(x=x_train, y=y_train, epochs=135, validation_data=(x_val, y_val), \n",
    "                  batch_size=1, verbose=1, shuffle=True, \n",
    "                  use_multiprocessing=False, callbacks=[mon])"
   ]
  },
  {
   "cell_type": "code",
   "execution_count": null,
   "id": "written-flight",
   "metadata": {},
   "outputs": [],
   "source": [
    "plt.gca()\n",
    "plt.plot(history.history['loss'], label='loss')\n",
    "plt.plot(history.history['val_loss'], label='val_loss')\n",
    "plt.savefig(\"history\"+ext+\".png\")\n",
    "plt.show()"
   ]
  },
  {
   "cell_type": "code",
   "execution_count": null,
   "id": "worldwide-masters",
   "metadata": {},
   "outputs": [],
   "source": [
    "from sklearn.metrics import r2_score\n",
    "y_sample = predicting(x_val,mdn,no_mix,dim_out,scy)\n",
    "Y = np.mean(y_sample,axis=1)\n",
    "plt.plot(scy.inverse_transform(y_val)[:,0],Y[:,0],\"mo\",alpha=0.3)\n",
    "plt.figure()\n",
    "plt.plot(scy.inverse_transform(y_val)[:,1],Y[:,1],\"ro\",alpha=0.3)\n",
    "plt.figure()\n",
    "plt.plot(scy.inverse_transform(y_val)[:,2],Y[:,2],\"yo\",alpha=0.3)\n",
    "plt.figure()\n",
    "plt.plot(scy.inverse_transform(y_val)[:,3],Y[:,3],\"ko\",alpha=0.3)\n",
    "plt.figure()\n",
    "plt.plot(scy.inverse_transform(y_val)[:,4],Y[:,4],\"go\",alpha=0.3)\n",
    "print(r2_score(scy.inverse_transform(y_val), Y))"
   ]
  },
  {
   "cell_type": "code",
   "execution_count": null,
   "id": "occupied-stress",
   "metadata": {},
   "outputs": [],
   "source": [
    "y_sample = predicting(x_test,mdn,no_mix,dim_out,scy)\n",
    "Y = np.mean(y_sample,axis=1)"
   ]
  },
  {
   "cell_type": "code",
   "execution_count": null,
   "id": "saved-marks",
   "metadata": {},
   "outputs": [],
   "source": [
    "plt.plot(scy.inverse_transform(y_test)[:,0],Y[:,0],\"mo\",alpha=0.3)\n",
    "plt.figure()\n",
    "plt.plot(scy.inverse_transform(y_test)[:,1],Y[:,1],\"ro\",alpha=0.3)\n",
    "plt.figure()\n",
    "plt.plot(scy.inverse_transform(y_test)[:,2],Y[:,2],\"yo\",alpha=0.3)\n",
    "plt.figure()\n",
    "plt.plot(scy.inverse_transform(y_test)[:,3],Y[:,3],\"ko\",alpha=0.3)\n",
    "plt.figure()\n",
    "plt.plot(scy.inverse_transform(y_test)[:,4],Y[:,4],\"go\",alpha=0.3)\n",
    "print(r2_score(scy.inverse_transform(y_test), Y))"
   ]
  },
  {
   "cell_type": "code",
   "execution_count": null,
   "id": "bound-trouble",
   "metadata": {},
   "outputs": [],
   "source": [
    "x_pred = sc.transform([[0.1,0.2,0.05,0.25]])\n",
    "\n",
    "y_sample = predicting(x_pred,mdn,no_mix,dim_out,scy)"
   ]
  },
  {
   "cell_type": "code",
   "execution_count": null,
   "id": "indie-henry",
   "metadata": {},
   "outputs": [],
   "source": [
    "print(np.mean(y_sample[0],axis=0))"
   ]
  },
  {
   "cell_type": "code",
   "execution_count": null,
   "id": "smart-vacation",
   "metadata": {},
   "outputs": [],
   "source": [
    "plt.hist(y_sample[0][:,0],linestyle = \"--\" ,bins =20, lw =2, color= \"m\", histtype=u'step')\n",
    "plt.hist(y_sample[0][:,1],linestyle = \"--\" ,bins =20, lw =2, color= \"r\", histtype=u'step')\n",
    "plt.hist(y_sample[0][:,2],linestyle = \"--\" ,bins =20, lw =2, color= \"y\", histtype=u'step')\n",
    "plt.hist(y_sample[0][:,3],linestyle = \"--\" ,bins =20, lw =2, color= \"k\", histtype=u'step')\n",
    "plt.hist(y_sample[0][:,4],linestyle = \"--\" ,bins =20, lw =2, color= \"g\", histtype=u'step')"
   ]
  },
  {
   "cell_type": "code",
   "execution_count": null,
   "id": "electric-monte",
   "metadata": {},
   "outputs": [],
   "source": [
    "mdn.save_weights(\"emu_MDN2_model_\"+ext+\".h5\")\n",
    "save_object(sc, \"emu_MDN2_sc_\"+ext+\".pkl\")\n",
    "save_object(scy, \"emu_MDN2_scy_\"+ext+\".pkl\")"
   ]
  },
  {
   "cell_type": "code",
   "execution_count": null,
   "id": "numeric-nebraska",
   "metadata": {},
   "outputs": [],
   "source": [
    "# If you want to reuse it somewhere else, you will have to have the functions and you will have to re-initialize it like below\n",
    "#mdn = MDN(neurons=neurons, components=components)\n",
    "#mdn.compile(loss=mvg_loss, optimizer=opt) #,run_eagerly=True)\n",
    "#mdn.fit(x=x_train, y=y_train, epochs=1, validation_data=(x_val, y_val), batch_size=int(len(x_train)/3), verbose=1)\n",
    "#mdn.load_weights(\"emu_MDN_model_\"+ext+\".h5\")"
   ]
  },
  {
   "cell_type": "code",
   "execution_count": null,
   "id": "resistant-scratch",
   "metadata": {},
   "outputs": [],
   "source": [
    "save_object(x_test, \"emu_MDN2_xtest_\"+ext+\".pkl\")\n",
    "save_object(y_test, \"emu_MDN2_ytest_\"+ext+\".pkl\")\n",
    "save_object(x_val, \"emu_MDN2_xval_\"+ext+\".pkl\")\n",
    "save_object(y_val, \"emu_MDN2_yval_\"+ext+\".pkl\")\n",
    "save_object(x_train, \"emu_MDN2_xtrain_\"+ext+\".pkl\")\n",
    "save_object(y_train, \"emu_MDN2_ytrain_\"+ext+\".pkl\")"
   ]
  },
  {
   "cell_type": "code",
   "execution_count": null,
   "id": "smaller-parts",
   "metadata": {},
   "outputs": [],
   "source": []
  },
  {
   "cell_type": "code",
   "execution_count": null,
   "id": "colored-perry",
   "metadata": {},
   "outputs": [],
   "source": []
  }
 ],
 "metadata": {
  "kernelspec": {
   "display_name": "Python 3",
   "language": "python",
   "name": "python3"
  },
  "language_info": {
   "codemirror_mode": {
    "name": "ipython",
    "version": 3
   },
   "file_extension": ".py",
   "mimetype": "text/x-python",
   "name": "python",
   "nbconvert_exporter": "python",
   "pygments_lexer": "ipython3",
   "version": "3.6.9"
  }
 },
 "nbformat": 4,
 "nbformat_minor": 5
}
