{
 "cells": [
  {
   "cell_type": "code",
   "execution_count": 1,
   "id": "adequate-receptor",
   "metadata": {},
   "outputs": [],
   "source": [
    "import numpy as np\n",
    "from glob import glob\n",
    "import os\n",
    "import matplotlib.pyplot as plt\n",
    "from sklearn.neighbors import KernelDensity"
   ]
  },
  {
   "cell_type": "code",
   "execution_count": 2,
   "id": "impressed-creator",
   "metadata": {},
   "outputs": [],
   "source": [
    "def QTR(q,truth):\n",
    "    X = q.reshape(-1, 1)\n",
    "    kde = KernelDensity(kernel='gaussian', bandwidth=0.01).fit(X)\n",
    "    qtr = kde.score_samples(np.asarray(truth).reshape(-1, 1))    \n",
    "    return -qtr[0]"
   ]
  },
  {
   "cell_type": "code",
   "execution_count": 3,
   "id": "architectural-sample",
   "metadata": {},
   "outputs": [
    {
     "name": "stdout",
     "output_type": "stream",
     "text": [
      "0\n"
     ]
    },
    {
     "ename": "TypeError",
     "evalue": "list indices must be integers or slices, not tuple",
     "output_type": "error",
     "traceback": [
      "\u001b[0;31m---------------------------------------------------------------------------\u001b[0m",
      "\u001b[0;31mTypeError\u001b[0m                                 Traceback (most recent call last)",
      "\u001b[0;32m<ipython-input-3-702d484b8243>\u001b[0m in \u001b[0;36m<module>\u001b[0;34m\u001b[0m\n\u001b[1;32m     62\u001b[0m \u001b[0mnp\u001b[0m\u001b[0;34m.\u001b[0m\u001b[0msavetxt\u001b[0m\u001b[0;34m(\u001b[0m\u001b[0;34m\"Prob_theta.txt\"\u001b[0m\u001b[0;34m,\u001b[0m \u001b[0mPTs\u001b[0m\u001b[0;34m)\u001b[0m\u001b[0;34m\u001b[0m\u001b[0;34m\u001b[0m\u001b[0m\n\u001b[1;32m     63\u001b[0m \u001b[0;34m\u001b[0m\u001b[0m\n\u001b[0;32m---> 64\u001b[0;31m \u001b[0mprint\u001b[0m\u001b[0;34m(\u001b[0m\u001b[0mnp\u001b[0m\u001b[0;34m.\u001b[0m\u001b[0mmean\u001b[0m\u001b[0;34m(\u001b[0m\u001b[0mPTs\u001b[0m\u001b[0;34m[\u001b[0m\u001b[0mnp\u001b[0m\u001b[0;34m.\u001b[0m\u001b[0misfinite\u001b[0m\u001b[0;34m(\u001b[0m\u001b[0mPTs\u001b[0m\u001b[0;34m[\u001b[0m\u001b[0;34m:\u001b[0m\u001b[0;34m,\u001b[0m\u001b[0;36m0\u001b[0m\u001b[0;34m]\u001b[0m\u001b[0;34m)\u001b[0m\u001b[0;34m,\u001b[0m\u001b[0;36m0\u001b[0m\u001b[0;34m]\u001b[0m\u001b[0;34m)\u001b[0m\u001b[0;34m,\u001b[0m \u001b[0mnp\u001b[0m\u001b[0;34m.\u001b[0m\u001b[0mmean\u001b[0m\u001b[0;34m(\u001b[0m\u001b[0mPTs\u001b[0m\u001b[0;34m[\u001b[0m\u001b[0mnp\u001b[0m\u001b[0;34m.\u001b[0m\u001b[0misfinite\u001b[0m\u001b[0;34m(\u001b[0m\u001b[0mPTs\u001b[0m\u001b[0;34m[\u001b[0m\u001b[0;34m:\u001b[0m\u001b[0;34m,\u001b[0m\u001b[0;36m1\u001b[0m\u001b[0;34m]\u001b[0m\u001b[0;34m)\u001b[0m\u001b[0;34m,\u001b[0m\u001b[0;36m1\u001b[0m\u001b[0;34m]\u001b[0m\u001b[0;34m)\u001b[0m\u001b[0;34m,\u001b[0m \u001b[0mnp\u001b[0m\u001b[0;34m.\u001b[0m\u001b[0mmean\u001b[0m\u001b[0;34m(\u001b[0m\u001b[0mPTs\u001b[0m\u001b[0;34m[\u001b[0m\u001b[0mnp\u001b[0m\u001b[0;34m.\u001b[0m\u001b[0misfinite\u001b[0m\u001b[0;34m(\u001b[0m\u001b[0mPTs\u001b[0m\u001b[0;34m[\u001b[0m\u001b[0;34m:\u001b[0m\u001b[0;34m,\u001b[0m\u001b[0;36m2\u001b[0m\u001b[0;34m]\u001b[0m\u001b[0;34m)\u001b[0m\u001b[0;34m,\u001b[0m\u001b[0;36m2\u001b[0m\u001b[0;34m]\u001b[0m\u001b[0;34m)\u001b[0m\u001b[0;34m,\u001b[0m \u001b[0mnp\u001b[0m\u001b[0;34m.\u001b[0m\u001b[0mmean\u001b[0m\u001b[0;34m(\u001b[0m\u001b[0mPTs\u001b[0m\u001b[0;34m[\u001b[0m\u001b[0mnp\u001b[0m\u001b[0;34m.\u001b[0m\u001b[0misfinite\u001b[0m\u001b[0;34m(\u001b[0m\u001b[0mPTs\u001b[0m\u001b[0;34m[\u001b[0m\u001b[0;34m:\u001b[0m\u001b[0;34m,\u001b[0m\u001b[0;36m3\u001b[0m\u001b[0;34m]\u001b[0m\u001b[0;34m)\u001b[0m\u001b[0;34m,\u001b[0m\u001b[0;36m3\u001b[0m\u001b[0;34m]\u001b[0m\u001b[0;34m)\u001b[0m\u001b[0;34m)\u001b[0m\u001b[0;34m\u001b[0m\u001b[0;34m\u001b[0m\u001b[0m\n\u001b[0m\u001b[1;32m     65\u001b[0m \u001b[0;34m\u001b[0m\u001b[0m\n",
      "\u001b[0;31mTypeError\u001b[0m: list indices must be integers or slices, not tuple"
     ]
    }
   ],
   "source": [
    "data = sorted(glob(\"../../GRID/LIB/GB*/histor*\"))\n",
    "\n",
    "print(len(data))\n",
    "\n",
    "LAM = []\n",
    "DIV = []\n",
    "EPS = []\n",
    "DIE = []\n",
    "\n",
    "num = len(data)\n",
    "\n",
    "TEST = False\n",
    "\n",
    "Failures = 0\n",
    "\n",
    "PTs = []\n",
    "\n",
    "for jot, obs_name in enumerate(data):\n",
    "\n",
    "    name = obs_name[:-11]+\"params.log\"\n",
    "\n",
    "    data1 = np.genfromtxt(name)\n",
    "\n",
    "    lam = data1[5]\n",
    "    eps = data1[11]\n",
    "    die = data1[12]\n",
    "    div = data1[14]\n",
    "\n",
    "    print(\"lam, eps, die, div: \", lam, eps, die, div)\n",
    "\n",
    "    name = \"E_\"+str(eps)+\"_L_\"+str(lam)+\"_D_\"+str(div)+\"_cd_\"+str(die)\n",
    "\n",
    "    sam_file = \"./\" + name + \"_sam_emu.txt\"\n",
    "\n",
    "    if os.path.isfile(sam_file):\n",
    "        \n",
    "        result = np.genfromtxt(sam_file)\n",
    "\n",
    "        of = \"../../DIST/summary_E_\"+str(eps)+\"_L_\"+str(lam)+\"_D_\"+str(div)+\"_cd_\"+str(die)+\".txt\"\n",
    "\n",
    "        obs = np.genfromtxt(of)\n",
    "\n",
    "        std_obs = np.std(obs,axis=0)\n",
    "        CI = np.percentile(obs,84,axis=0)-np.percentile(obs,16,axis=0)\n",
    "        \n",
    "        if 0.0 not in CI:\n",
    "            \n",
    "            truths = [lam, eps, die, div] \n",
    "            \n",
    "            pt0 = QTR(result[:,0],truths[0])\n",
    "            pt1 = QTR(result[:,1],truths[1])\n",
    "            pt2 = QTR(result[:,2],truths[2])\n",
    "            pt3 = QTR(result[:,3],truths[3])                                                       \n",
    "            \n",
    "            if len(PTs) < 1:\n",
    "                PTs = [pt0,pt1,pt2,pt3]\n",
    "            else:\n",
    "                PTs = np.vstack((PTs,[pt0,pt1,pt2,pt3]))\n",
    "        else:\n",
    "            Failures += 1\n",
    "\n",
    "np.savetxt(\"Prob_theta.txt\", PTs)\n",
    "\n",
    "print(np.mean(PTs[np.isfinite(PTs[:,0]),0]), np.mean(PTs[np.isfinite(PTs[:,1]),1]), np.mean(PTs[np.isfinite(PTs[:,2]),2]), np.mean(PTs[np.isfinite(PTs[:,3]),3])) \n",
    "            "
   ]
  },
  {
   "cell_type": "code",
   "execution_count": null,
   "id": "political-cargo",
   "metadata": {},
   "outputs": [],
   "source": [
    "print(len(PTs))\n",
    "print(Failures)"
   ]
  },
  {
   "cell_type": "code",
   "execution_count": null,
   "id": "purple-doubt",
   "metadata": {},
   "outputs": [],
   "source": []
  }
 ],
 "metadata": {
  "kernelspec": {
   "display_name": "Python 3",
   "language": "python",
   "name": "python3"
  },
  "language_info": {
   "codemirror_mode": {
    "name": "ipython",
    "version": 3
   },
   "file_extension": ".py",
   "mimetype": "text/x-python",
   "name": "python",
   "nbconvert_exporter": "python",
   "pygments_lexer": "ipython3",
   "version": "3.6.9"
  }
 },
 "nbformat": 4,
 "nbformat_minor": 5
}
